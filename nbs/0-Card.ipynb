{
 "cells": [
  {
   "cell_type": "code",
   "execution_count": 1,
   "id": "47220228",
   "metadata": {},
   "outputs": [],
   "source": [
    "# | default_exp cards"
   ]
  },
  {
   "cell_type": "markdown",
   "id": "32d30380",
   "metadata": {},
   "source": [
    "# Card component for displaying chat messages"
   ]
  },
  {
   "cell_type": "code",
   "execution_count": 2,
   "id": "15ae5581",
   "metadata": {},
   "outputs": [],
   "source": [
    "# | export\n",
    "\n",
    "from fasthtml.common import *"
   ]
  },
  {
   "cell_type": "code",
   "execution_count": 3,
   "id": "312ffe87",
   "metadata": {},
   "outputs": [],
   "source": [
    "from fasthtml.jupyter import render_ft, JupyUvi\n",
    "\n",
    "render_ft()"
   ]
  },
  {
   "cell_type": "code",
   "execution_count": 11,
   "id": "7335f114",
   "metadata": {},
   "outputs": [],
   "source": [
    "# | export\n",
    "\n",
    "\n",
    "class ChatCard:\n",
    "    def __init__(\n",
    "        self,\n",
    "        user_color: str = \"#1C0069\",\n",
    "        assistant_color: str = \"#004539\",\n",
    "        user_emoji: str = \"🗣️\",\n",
    "        assistant_emoji: str = \"🕵️‍♂️\",\n",
    "        width: str = \"60%\",\n",
    "        font_size: str = \"1.5em\",\n",
    "        padding: str = \"1.25em\",\n",
    "        border_radius: str = \"1em\",\n",
    "        user_align: str = \"right\",\n",
    "        assistant_align: str = \"left\",\n",
    "        user_self_align: str = \"center\",\n",
    "        assistant_self_align: str = \"center\",\n",
    "        role_font_weight: str = \"bold\",\n",
    "        role_font_size: str = \"1.1em\",\n",
    "        role_margin_bottom: str = \"8px\",\n",
    "        content_white_space: str = \"pre-wrap\",\n",
    "        spinner_class: str = \"spinner\",\n",
    "    ):\n",
    "        self.colors = {\n",
    "            \"User\": user_color,\n",
    "            \"Assistant\": assistant_color,\n",
    "        }\n",
    "\n",
    "        self.emojis = {\"User\": user_emoji, \"Assistant\": assistant_emoji}\n",
    "\n",
    "        self.alignments = {\n",
    "            \"User\": {\"text\": user_align, \"self\": user_self_align},\n",
    "            \"Assistant\": {\"text\": assistant_align, \"self\": assistant_self_align},\n",
    "        }\n",
    "\n",
    "        # Style configuration\n",
    "        self.width = width\n",
    "        self.font_size = font_size\n",
    "        self.padding = padding\n",
    "        self.border_radius = border_radius\n",
    "        self.role_font_weight = role_font_weight\n",
    "        self.role_font_size = role_font_size\n",
    "        self.role_margin_bottom = role_margin_bottom\n",
    "        self.content_white_space = content_white_space\n",
    "        self.spinner_class = spinner_class\n",
    "\n",
    "        # Build style template\n",
    "        self.style_template = f\"\"\"\n",
    "        background: {{bg}}; color: {{text_color}}; padding: 10px; font-size: {self.font_size}; \n",
    "        width: {self.width}; align-self: {{self_align}}; \n",
    "        text-align: {{text_align}}; border-radius: {self.border_radius}; \n",
    "        padding: {self.padding}\"\"\"\n",
    "\n",
    "    def _get_text_color(self, bg_color: str) -> str:\n",
    "        \"\"\"\n",
    "        Calculate whether to use black or white text based on background color luminance.\n",
    "        Uses the relative luminance formula from WCAG guidelines.\n",
    "        \"\"\"\n",
    "        # Remove # if present\n",
    "        hex_color = bg_color.lstrip(\"#\")\n",
    "\n",
    "        # Convert hex to RGB\n",
    "        r = int(hex_color[0:2], 16) / 255.0\n",
    "        g = int(hex_color[2:4], 16) / 255.0\n",
    "        b = int(hex_color[4:6], 16) / 255.0\n",
    "\n",
    "        # Calculate relative luminance\n",
    "        def adjust_channel(c):\n",
    "            return c / 12.92 if c <= 0.03928 else ((c + 0.055) / 1.055) ** 2.4\n",
    "\n",
    "        r, g, b = adjust_channel(r), adjust_channel(g), adjust_channel(b)\n",
    "        luminance = 0.2126 * r + 0.7152 * g + 0.0722 * b\n",
    "\n",
    "        # Return white for dark backgrounds, black for light backgrounds\n",
    "        return \"#FFFFFF\" if luminance < 0.5 else \"#000000\"\n",
    "\n",
    "    def _get_style(self, role: str) -> str:\n",
    "        \"\"\"Generate CSS style string for a given role.\"\"\"\n",
    "        bg_color = self.colors[role]\n",
    "        return self.style_template.format(\n",
    "            bg=bg_color,\n",
    "            text_color=self._get_text_color(bg_color),\n",
    "            self_align=self.alignments[role][\"self\"],\n",
    "            text_align=self.alignments[role][\"text\"],\n",
    "        )\n",
    "\n",
    "    def _get_role_style(self) -> str:\n",
    "        \"\"\"Generate CSS style string for role labels.\"\"\"\n",
    "        return f\"font-weight: {self.role_font_weight}; font-size: {self.role_font_size}; display: block; margin-bottom: {self.role_margin_bottom};\"\n",
    "\n",
    "    def render(self, data: dict):\n",
    "        \"\"\"\n",
    "        Render a chat card with the given data.\n",
    "\n",
    "        Args:\n",
    "            data: Dictionary containing:\n",
    "                - role: \"User\" or \"Assistant\"\n",
    "                - content: Message content (optional)\n",
    "                - pending: Boolean indicating if message is loading (optional)\n",
    "\n",
    "        Returns:\n",
    "            FastHTML Div element representing the chat card\n",
    "        \"\"\"\n",
    "        role = data[\"role\"]\n",
    "        content = data.get(\"content\", \"\")\n",
    "        pending = data.get(\"pending\", False)\n",
    "\n",
    "        style = self._get_style(role)\n",
    "        emoji = self.emojis[role]\n",
    "\n",
    "        if pending:\n",
    "            spinner = Span(cls=self.spinner_class)\n",
    "            return Div(f\"{emoji} {role}: \", spinner, style=style)\n",
    "\n",
    "        # Add 'marked' class to enable markdown rendering\n",
    "        return Div(\n",
    "            Span(\n",
    "                U(f\"{emoji} {role}: \"),\n",
    "                style=self._get_role_style(),\n",
    "            ),\n",
    "            Div(\n",
    "                content, cls=\"marked\", style=f\"white-space: {self.content_white_space};\"\n",
    "            ),\n",
    "            style=style,\n",
    "        )\n",
    "\n",
    "    def __call__(self, data: dict):\n",
    "        \"\"\"Make the class callable like the original function.\"\"\"\n",
    "        return self.render(data)"
   ]
  },
  {
   "cell_type": "code",
   "execution_count": 33,
   "id": "7f6c77a7",
   "metadata": {},
   "outputs": [
    {
     "data": {
      "text/markdown": [
       "<div>\n",
       "  <div style=\"background: #272727; padding: 10px; font-size: 1.5em; width: 60%; align-self: center; text-align: right; border-radius: 1em; padding: 1.25em\">\n",
       "<span style=\"font-weight: bold; font-size: 1.1em; display: block; margin-bottom: 8px;\"><u>🗣️ User: </u></span>    <div class=\"marked\" style=\"white-space: pre-wrap;\">Hello, how are you?</div>\n",
       "  </div>\n",
       "<script>if (window.htmx) htmx.process(document.body)</script></div>\n"
      ],
      "text/plain": [
       "div((span((u(('🗣️ User: ',),{}),),{'style': 'font-weight: bold; font-size: 1.1em; display: block; margin-bottom: 8px;'}), div(('Hello, how are you?',),{'class': 'marked', 'style': 'white-space: pre-wrap;'})),{'style': 'background: #272727; padding: 10px; font-size: 1.5em; width: 60%; align-self: center; text-align: right; border-radius: 1em; padding: 1.25em'})"
      ]
     },
     "execution_count": 33,
     "metadata": {},
     "output_type": "execute_result"
    }
   ],
   "source": [
    "# Test with default styling\n",
    "chat_card = ChatCard(user_color=\"#272727\")\n",
    "user_msg = {\"role\": \"User\", \"content\": \"Hello, how are you?\"}\n",
    "chat_card(user_msg)"
   ]
  },
  {
   "cell_type": "code",
   "execution_count": 34,
   "id": "1994e37e",
   "metadata": {},
   "outputs": [
    {
     "data": {
      "text/markdown": [
       "<div>\n",
       "  <div style=\"background: #3B3B3B; padding: 10px; font-size: 1.5em; width: 60%; align-self: center; text-align: left; border-radius: 1em; padding: 1.25em\">\n",
       "<span style=\"font-weight: bold; font-size: 1.1em; display: block; margin-bottom: 8px;\"><u>🕵️‍♂️ Assistant: </u></span>    <div class=\"marked\" style=\"white-space: pre-wrap;\">I'm doing well, thank you!</div>\n",
       "  </div>\n",
       "<script>if (window.htmx) htmx.process(document.body)</script></div>\n"
      ],
      "text/plain": [
       "div((span((u(('🕵️\\u200d♂️ Assistant: ',),{}),),{'style': 'font-weight: bold; font-size: 1.1em; display: block; margin-bottom: 8px;'}), div((\"I'm doing well, thank you!\",),{'class': 'marked', 'style': 'white-space: pre-wrap;'})),{'style': 'background: #3B3B3B; padding: 10px; font-size: 1.5em; width: 60%; align-self: center; text-align: left; border-radius: 1em; padding: 1.25em'})"
      ]
     },
     "execution_count": 34,
     "metadata": {},
     "output_type": "execute_result"
    }
   ],
   "source": [
    "asst_msg = {\"role\": \"Assistant\", \"content\": \"I'm doing well, thank you!\"}\n",
    "chat_card(asst_msg)"
   ]
  },
  {
   "cell_type": "code",
   "execution_count": 35,
   "id": "5fbb6fbe",
   "metadata": {},
   "outputs": [],
   "source": [
    "# | export\n",
    "CHAT_DIV_ID = \"chat-cards\"\n",
    "\n",
    "\n",
    "def render_chat_list(messages: List[Dict[str, str]], ChatCard: ChatCard):\n",
    "    return Div(\n",
    "        *[ChatCard(m) for m in messages],\n",
    "        id=CHAT_DIV_ID,\n",
    "        cls=\"chat-cards\",\n",
    "        style=\"display: flex; flex-direction: column; gap: 10px;\",\n",
    "    )"
   ]
  },
  {
   "cell_type": "code",
   "execution_count": 36,
   "id": "87917dab",
   "metadata": {},
   "outputs": [
    {
     "data": {
      "text/markdown": [
       "<div>\n",
       "  <div id=\"chat-cards\" class=\"chat-cards\" style=\"display: flex; flex-direction: column; gap: 10px;\">\n",
       "    <div style=\"background: #272727; padding: 10px; font-size: 1.5em; width: 60%; align-self: center; text-align: right; border-radius: 1em; padding: 1.25em\">\n",
       "<span style=\"font-weight: bold; font-size: 1.1em; display: block; margin-bottom: 8px;\"><u>🗣️ User: </u></span>      <div class=\"marked\" style=\"white-space: pre-wrap;\">Hello, how are you?</div>\n",
       "    </div>\n",
       "    <div style=\"background: #3B3B3B; padding: 10px; font-size: 1.5em; width: 60%; align-self: center; text-align: left; border-radius: 1em; padding: 1.25em\">\n",
       "<span style=\"font-weight: bold; font-size: 1.1em; display: block; margin-bottom: 8px;\"><u>🕵️‍♂️ Assistant: </u></span>      <div class=\"marked\" style=\"white-space: pre-wrap;\">I'm doing well, thank you!</div>\n",
       "    </div>\n",
       "  </div>\n",
       "<script>if (window.htmx) htmx.process(document.body)</script></div>\n"
      ],
      "text/plain": [
       "div((div((span((u(('🗣️ User: ',),{}),),{'style': 'font-weight: bold; font-size: 1.1em; display: block; margin-bottom: 8px;'}), div(('Hello, how are you?',),{'class': 'marked', 'style': 'white-space: pre-wrap;'})),{'style': 'background: #272727; padding: 10px; font-size: 1.5em; width: 60%; align-self: center; text-align: right; border-radius: 1em; padding: 1.25em'}), div((span((u(('🕵️\\u200d♂️ Assistant: ',),{}),),{'style': 'font-weight: bold; font-size: 1.1em; display: block; margin-bottom: 8px;'}), div((\"I'm doing well, thank you!\",),{'class': 'marked', 'style': 'white-space: pre-wrap;'})),{'style': 'background: #3B3B3B; padding: 10px; font-size: 1.5em; width: 60%; align-self: center; text-align: left; border-radius: 1em; padding: 1.25em'})),{'id': 'chat-cards', 'class': 'chat-cards', 'style': 'display: flex; flex-direction: column; gap: 10px;'})"
      ]
     },
     "execution_count": 36,
     "metadata": {},
     "output_type": "execute_result"
    }
   ],
   "source": [
    "render_chat_list([user_msg, asst_msg], chat_card)"
   ]
  },
  {
   "cell_type": "code",
   "execution_count": 37,
   "id": "a657b207",
   "metadata": {},
   "outputs": [],
   "source": [
    "# | export\n",
    "def mk_inp():\n",
    "    return Input(\n",
    "        id=\"msg\",\n",
    "        placeholder=\"Type a message...\",\n",
    "        autofocus=True,\n",
    "        style=\"width: 60%; max-width: 600px; padding: 0.75em; font-size: 1em; border-radius: 0.5em\",\n",
    "    )"
   ]
  },
  {
   "cell_type": "code",
   "execution_count": 38,
   "id": "a96bc19c",
   "metadata": {},
   "outputs": [
    {
     "data": {
      "text/markdown": [
       "<div>\n",
       "  <input placeholder=\"Type a message...\" autofocus id=\"msg\" style=\"width: 60%; max-width: 600px; padding: 0.75em; font-size: 1em; border-radius: 0.5em\" name=\"msg\">\n",
       "<script>if (window.htmx) htmx.process(document.body)</script></div>\n"
      ],
      "text/plain": [
       "input((),{'placeholder': 'Type a message...', 'autofocus': True, 'id': 'msg', 'style': 'width: 60%; max-width: 600px; padding: 0.75em; font-size: 1em; border-radius: 0.5em', 'name': 'msg'})"
      ]
     },
     "execution_count": 38,
     "metadata": {},
     "output_type": "execute_result"
    }
   ],
   "source": [
    "mk_inp()"
   ]
  },
  {
   "cell_type": "code",
   "execution_count": null,
   "id": "aa6bce6d",
   "metadata": {},
   "outputs": [],
   "source": []
  }
 ],
 "metadata": {
  "kernelspec": {
   "display_name": "pylogue (3.13.3)",
   "language": "python",
   "name": "python3"
  },
  "language_info": {
   "codemirror_mode": {
    "name": "ipython",
    "version": 3
   },
   "file_extension": ".py",
   "mimetype": "text/x-python",
   "name": "python",
   "nbconvert_exporter": "python",
   "pygments_lexer": "ipython3",
   "version": "3.13.3"
  }
 },
 "nbformat": 4,
 "nbformat_minor": 5
}
