{
 "cells": [
  {
   "cell_type": "code",
   "execution_count": 1,
   "id": "0f304e69",
   "metadata": {},
   "outputs": [],
   "source": [
    "# | default_exp session"
   ]
  },
  {
   "cell_type": "code",
   "execution_count": 2,
   "id": "fe07114e",
   "metadata": {},
   "outputs": [],
   "source": [
    "# | export\n",
    "\n",
    "from typing import List, Dict, Optional, Any, Protocol\n",
    "from dataclasses import dataclass, field\n",
    "from abc import ABC, abstractmethod\n",
    "import uuid"
   ]
  },
  {
   "cell_type": "markdown",
   "id": "a33c214c",
   "metadata": {},
   "source": [
    "## State Management Layer\n",
    "\n",
    "This module provides the core abstractions for managing chat sessions and messages."
   ]
  },
  {
   "cell_type": "code",
   "execution_count": null,
   "id": "241b54b5",
   "metadata": {},
   "outputs": [],
   "source": [
    "# | export\n",
    "\n",
    "\n",
    "@dataclass\n",
    "class Message:\n",
    "    \"\"\"Represents a single chat message.\"\"\"\n",
    "\n",
    "    role: str\n",
    "    content: str\n",
    "    id: Optional[str] = None\n",
    "    pending: bool = False\n",
    "    metadata: Dict[str, Any] = field(default_factory=dict)\n",
    "\n",
    "    def __post_init__(self):\n",
    "        if self.id is None:\n",
    "            self.id = str(uuid.uuid4())\n",
    "\n",
    "    def to_dict(self) -> Dict[str, Any]:\n",
    "        \"\"\"Convert to dictionary format for rendering.\"\"\"\n",
    "        result = {\n",
    "            \"role\": self.role,\n",
    "            \"content\": self.content,\n",
    "            \"id\": self.id,\n",
    "        }\n",
    "        if self.pending:\n",
    "            result[\"pending\"] = self.pending\n",
    "        result.update(self.metadata)\n",
    "        return result\n",
    "\n",
    "    @classmethod\n",
    "    def from_dict(cls, data: Dict[str, Any]) -> \"Message\":\n",
    "        \"\"\"Create Message from dictionary.\"\"\"\n",
    "        metadata = {\n",
    "            k: v\n",
    "            for k, v in data.items()\n",
    "            if k not in (\"role\", \"content\", \"id\", \"pending\")\n",
    "        }\n",
    "        return cls(\n",
    "            role=data[\"role\"],\n",
    "            content=data.get(\"content\", \"\"),\n",
    "            id=data.get(\"id\"),\n",
    "            pending=data.get(\"pending\", False),\n",
    "            metadata=metadata,\n",
    "        )"
   ]
  },
  {
   "cell_type": "code",
   "execution_count": null,
   "id": "b061db1c",
   "metadata": {},
   "outputs": [],
   "source": [
    "# | export\n",
    "\n",
    "\n",
    "class ChatSession:\n",
    "    \"\"\"Manages a single chat conversation.\"\"\"\n",
    "\n",
    "    def __init__(\n",
    "        self, session_id: str, initial_messages: Optional[List[Message]] = None\n",
    "    ):\n",
    "        self.session_id = session_id\n",
    "        self._messages: List[Message] = initial_messages or []\n",
    "\n",
    "    def add_message(\n",
    "        self, role: str, content: str, pending: bool = False, **metadata\n",
    "    ) -> Message:\n",
    "        \"\"\"Add a new message to the session.\"\"\"\n",
    "        msg = Message(role=role, content=content, pending=pending, metadata=metadata)\n",
    "        self._messages.append(msg)\n",
    "        return msg\n",
    "\n",
    "    def update_message(self, msg_id: str, **updates) -> Optional[Message]:\n",
    "        \"\"\"Update an existing message by ID.\"\"\"\n",
    "        for msg in self._messages:\n",
    "            if msg.id == msg_id:\n",
    "                for key, value in updates.items():\n",
    "                    if key == \"content\":\n",
    "                        msg.content = value\n",
    "                    elif key == \"pending\":\n",
    "                        msg.pending = value\n",
    "                    elif key == \"role\":\n",
    "                        msg.role = value\n",
    "                    else:\n",
    "                        msg.metadata[key] = value\n",
    "                return msg\n",
    "        return None\n",
    "\n",
    "    def remove_message(self, msg_id: str) -> bool:\n",
    "        \"\"\"Remove a message by ID.\"\"\"\n",
    "        original_len = len(self._messages)\n",
    "        self._messages = [m for m in self._messages if m.id != msg_id]\n",
    "        return len(self._messages) < original_len\n",
    "\n",
    "    def get_messages(self) -> List[Message]:\n",
    "        \"\"\"Get all messages in the session.\"\"\"\n",
    "        return self._messages.copy()\n",
    "\n",
    "    def get_message_dicts(self) -> List[Dict[str, Any]]:\n",
    "        \"\"\"Get all messages as dictionaries.\"\"\"\n",
    "        return [msg.to_dict() for msg in self._messages]\n",
    "\n",
    "    def clear(self):\n",
    "        \"\"\"Clear all messages.\"\"\"\n",
    "        self._messages.clear()\n",
    "\n",
    "    def __len__(self) -> int:\n",
    "        return len(self._messages)"
   ]
  },
  {
   "cell_type": "code",
   "execution_count": null,
   "id": "ba1d82b7",
   "metadata": {},
   "outputs": [],
   "source": [
    "# | export\n",
    "\n",
    "\n",
    "class SessionManager(ABC):\n",
    "    \"\"\"Abstract base class for managing multiple chat sessions.\"\"\"\n",
    "\n",
    "    @abstractmethod\n",
    "    def create_session(\n",
    "        self,\n",
    "        session_id: Optional[str] = None,\n",
    "        initial_messages: Optional[List[Message]] = None,\n",
    "    ) -> ChatSession:\n",
    "        \"\"\"Create a new chat session.\"\"\"\n",
    "        pass\n",
    "\n",
    "    @abstractmethod\n",
    "    def get_session(self, session_id: str) -> Optional[ChatSession]:\n",
    "        \"\"\"Retrieve a session by ID.\"\"\"\n",
    "        pass\n",
    "\n",
    "    @abstractmethod\n",
    "    def delete_session(self, session_id: str) -> bool:\n",
    "        \"\"\"Delete a session by ID.\"\"\"\n",
    "        pass\n",
    "\n",
    "    @abstractmethod\n",
    "    def list_sessions(self) -> List[str]:\n",
    "        \"\"\"List all session IDs.\"\"\"\n",
    "        pass"
   ]
  },
  {
   "cell_type": "code",
   "execution_count": null,
   "id": "4e69c125",
   "metadata": {},
   "outputs": [],
   "source": [
    "# | export\n",
    "\n",
    "\n",
    "class InMemorySessionManager(SessionManager):\n",
    "    \"\"\"In-memory implementation of SessionManager.\"\"\"\n",
    "\n",
    "    def __init__(self):\n",
    "        self._sessions: Dict[str, ChatSession] = {}\n",
    "\n",
    "    def create_session(\n",
    "        self,\n",
    "        session_id: Optional[str] = None,\n",
    "        initial_messages: Optional[List[Message]] = None,\n",
    "    ) -> ChatSession:\n",
    "        \"\"\"Create a new chat session.\"\"\"\n",
    "        if session_id is None:\n",
    "            session_id = str(uuid.uuid4())\n",
    "\n",
    "        session = ChatSession(session_id, initial_messages)\n",
    "        self._sessions[session_id] = session\n",
    "        return session\n",
    "\n",
    "    def get_session(self, session_id: str) -> Optional[ChatSession]:\n",
    "        \"\"\"Retrieve a session by ID.\"\"\"\n",
    "        return self._sessions.get(session_id)\n",
    "\n",
    "    def delete_session(self, session_id: str) -> bool:\n",
    "        \"\"\"Delete a session by ID.\"\"\"\n",
    "        if session_id in self._sessions:\n",
    "            del self._sessions[session_id]\n",
    "            return True\n",
    "        return False\n",
    "\n",
    "    def list_sessions(self) -> List[str]:\n",
    "        \"\"\"List all session IDs.\"\"\"\n",
    "        return list(self._sessions.keys())\n",
    "\n",
    "    def __len__(self) -> int:\n",
    "        return len(self._sessions)"
   ]
  },
  {
   "cell_type": "markdown",
   "id": "0773f633",
   "metadata": {},
   "source": [
    "## Test the State Management Layer"
   ]
  },
  {
   "cell_type": "code",
   "execution_count": 7,
   "id": "72120a4c",
   "metadata": {},
   "outputs": [
    {
     "name": "stdout",
     "output_type": "stream",
     "text": [
      "Message ID: b4f0106a-73cf-4c72-ba41-fb4abe9cc5b9\n",
      "Message Dict: {'role': 'User', 'content': 'Hello!', 'id': 'b4f0106a-73cf-4c72-ba41-fb4abe9cc5b9', 'timestamp': '2024-01-01'}\n"
     ]
    }
   ],
   "source": [
    "# Test Message\n",
    "msg = Message(role=\"User\", content=\"Hello!\", metadata={\"timestamp\": \"2024-01-01\"})\n",
    "print(f\"Message ID: {msg.id}\")\n",
    "print(f\"Message Dict: {msg.to_dict()}\")"
   ]
  },
  {
   "cell_type": "code",
   "execution_count": 8,
   "id": "f3d073dc",
   "metadata": {},
   "outputs": [
    {
     "name": "stdout",
     "output_type": "stream",
     "text": [
      "Session has 2 messages\n",
      "Messages: [{'role': 'User', 'content': 'Hello', 'id': '28145e84-1fe0-44f3-9895-910f6bb4cb21'}, {'role': 'Assistant', 'content': 'Hi there!', 'id': '49ec40bc-fee9-4c61-924c-e426b0f5bca0', 'metadata': {'model': 'gpt-4'}}]\n"
     ]
    }
   ],
   "source": [
    "# Test ChatSession\n",
    "session = ChatSession(\"test-123\")\n",
    "msg1 = session.add_message(\"User\", \"Hello\")\n",
    "msg2 = session.add_message(\"Assistant\", \"Hi there!\", metadata={\"model\": \"gpt-4\"})\n",
    "print(f\"Session has {len(session)} messages\")\n",
    "print(f\"Messages: {session.get_message_dicts()}\")"
   ]
  },
  {
   "cell_type": "code",
   "execution_count": null,
   "id": "9bf3c288",
   "metadata": {},
   "outputs": [
    {
     "name": "stdout",
     "output_type": "stream",
     "text": [
      "Active sessions: ['session-1']\n",
      "Retrieved session messages: [{'role': 'User', 'content': 'First message', 'id': 'e792fd98-a58b-4f6d-a47b-44f0c7a0bdb1'}]\n"
     ]
    }
   ],
   "source": [
    "# Test SessionManager\n",
    "manager = InMemorySessionManager()\n",
    "s1 = manager.create_session(\"session-1\")\n",
    "s1.add_message(\"User\", \"First message\")\n",
    "print(f\"Active sessions: {manager.list_sessions()}\")\n",
    "print(\n",
    "    f\"Retrieved session messages: {manager.get_session('session-1').get_message_dicts()}\"\n",
    ")"
   ]
  },
  {
   "cell_type": "code",
   "execution_count": null,
   "id": "36dbf07d",
   "metadata": {},
   "outputs": [],
   "source": []
  }
 ],
 "metadata": {
  "kernelspec": {
   "display_name": "pylogue (3.13.3)",
   "language": "python",
   "name": "python3"
  },
  "language_info": {
   "codemirror_mode": {
    "name": "ipython",
    "version": 3
   },
   "file_extension": ".py",
   "mimetype": "text/x-python",
   "name": "python",
   "nbconvert_exporter": "python",
   "pygments_lexer": "ipython3",
   "version": "3.13.3"
  }
 },
 "nbformat": 4,
 "nbformat_minor": 5
}
