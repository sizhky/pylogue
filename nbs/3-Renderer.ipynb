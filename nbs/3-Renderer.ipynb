{
 "cells": [
  {
   "cell_type": "code",
   "execution_count": 1,
   "id": "4b272b7e",
   "metadata": {},
   "outputs": [],
   "source": [
    "# | default_exp renderer"
   ]
  },
  {
   "cell_type": "code",
   "execution_count": 2,
   "id": "5e40c4fd",
   "metadata": {},
   "outputs": [],
   "source": [
    "# | export\n",
    "\n",
    "from typing import List, Dict, Any, Optional\n",
    "from fasthtml.common import *\n",
    "from pylogue.cards import ChatCard\n",
    "from pylogue.session import Message, ChatSession"
   ]
  },
  {
   "cell_type": "markdown",
   "id": "87b3a47a",
   "metadata": {},
   "source": [
    "## Presentation Layer\n",
    "\n",
    "This module provides rendering components for the chat interface."
   ]
  },
  {
   "cell_type": "code",
   "execution_count": null,
   "id": "c51761f7",
   "metadata": {},
   "outputs": [],
   "source": [
    "# | export\n",
    "\n",
    "\n",
    "class ChatRenderer:\n",
    "    \"\"\"Renders chat components with customizable styling.\"\"\"\n",
    "\n",
    "    CHAT_DIV_ID = \"chat-cards\"\n",
    "\n",
    "    def __init__(\n",
    "        self,\n",
    "        card: Optional[ChatCard] = None,\n",
    "        input_placeholder: str = \"Type a message...\",\n",
    "        input_style: Optional[str] = None,\n",
    "        chat_container_style: Optional[str] = None,\n",
    "        ws_endpoint: str = \"/ws\",\n",
    "    ):\n",
    "        \"\"\"\n",
    "        Initialize ChatRenderer.\n",
    "\n",
    "        Args:\n",
    "            card: ChatCard instance for rendering messages\n",
    "            input_placeholder: Placeholder text for input field\n",
    "            input_style: Custom CSS style for input field\n",
    "            chat_container_style: Custom CSS style for chat container\n",
    "            ws_endpoint: WebSocket endpoint path\n",
    "        \"\"\"\n",
    "        self.card = card or ChatCard()\n",
    "        self.input_placeholder = input_placeholder\n",
    "        self.ws_endpoint = ws_endpoint\n",
    "        self.input_style = input_style or (\n",
    "            \"width: 60%; max-width: 600px; padding: 0.75em; \"\n",
    "            \"font-size: 1em; border-radius: 0.5em\"\n",
    "        )\n",
    "        self.chat_container_style = chat_container_style or (\n",
    "            \"display: flex; flex-direction: column; gap: 10px;\"\n",
    "        )\n",
    "\n",
    "    def render_message(self, message: Message) -> Any:\n",
    "        \"\"\"Render a single message.\"\"\"\n",
    "        return self.card(message.to_dict())\n",
    "\n",
    "    def render_messages(self, messages: List[Message]) -> Any:\n",
    "        \"\"\"\n",
    "        Render a list of messages in a container.\n",
    "\n",
    "        Args:\n",
    "            messages: List of Message objects to render\n",
    "\n",
    "        Returns:\n",
    "            FastHTML Div containing all rendered messages\n",
    "        \"\"\"\n",
    "        return Div(\n",
    "            *[self.render_message(msg) for msg in messages],\n",
    "            id=self.CHAT_DIV_ID,\n",
    "            cls=\"chat-cards\",\n",
    "            style=self.chat_container_style,\n",
    "        )\n",
    "\n",
    "    def render_messages_from_dicts(self, message_dicts: List[Dict[str, Any]]) -> Any:\n",
    "        \"\"\"\n",
    "        Render messages from dictionary representations.\n",
    "\n",
    "        Args:\n",
    "            message_dicts: List of message dictionaries\n",
    "\n",
    "        Returns:\n",
    "            FastHTML Div containing all rendered messages\n",
    "        \"\"\"\n",
    "        messages = [Message.from_dict(d) for d in message_dicts]\n",
    "        return self.render_messages(messages)\n",
    "\n",
    "    def render_input(self, input_id: str = \"msg\", autofocus: bool = True) -> Any:\n",
    "        \"\"\"\n",
    "        Render the message input field.\n",
    "\n",
    "        Args:\n",
    "            input_id: HTML ID for the input element\n",
    "            autofocus: Whether to autofocus the input\n",
    "\n",
    "        Returns:\n",
    "            FastHTML Input element\n",
    "        \"\"\"\n",
    "        return Input(\n",
    "            id=input_id,\n",
    "            placeholder=self.input_placeholder,\n",
    "            autofocus=autofocus,\n",
    "            style=self.input_style,\n",
    "        )\n",
    "\n",
    "    def render_form(\n",
    "        self,\n",
    "        form_id: str = \"form\",\n",
    "        form_style: Optional[str] = None,\n",
    "        ws_send: bool = True,\n",
    "    ) -> Any:\n",
    "        \"\"\"\n",
    "        Render the input form with WebSocket connection.\n",
    "\n",
    "        Args:\n",
    "            form_id: HTML ID for the form\n",
    "            form_style: Custom CSS style for form\n",
    "            ws_send: Whether form sends via WebSocket\n",
    "\n",
    "        Returns:\n",
    "            FastHTML Form element\n",
    "        \"\"\"\n",
    "        form_style = form_style or (\n",
    "            \"display: flex; justify-content: center; \"\n",
    "            \"margin-top: 20px; padding: 20px;\"\n",
    "        )\n",
    "\n",
    "        return Form(\n",
    "            self.render_input(),\n",
    "            id=form_id,\n",
    "            hx_ext=\"ws\",\n",
    "            ws_connect=self.ws_endpoint,\n",
    "            ws_send=ws_send,\n",
    "            style=form_style,\n",
    "        )"
   ]
  },
  {
   "cell_type": "markdown",
   "id": "e61f03ff",
   "metadata": {},
   "source": [
    "## Test the Renderer"
   ]
  },
  {
   "cell_type": "code",
   "execution_count": 4,
   "id": "ebfcae27",
   "metadata": {},
   "outputs": [],
   "source": [
    "from fasthtml.jupyter import render_ft\n",
    "\n",
    "render_ft()"
   ]
  },
  {
   "cell_type": "code",
   "execution_count": 5,
   "id": "c2d68b02",
   "metadata": {},
   "outputs": [
    {
     "data": {
      "text/markdown": [
       "<div>\n",
       "  <div style=\"background: #272727; padding: 10px; font-size: 1.5em; width: 60%; align-self: center; text-align: right; border-radius: 1em; padding: 1.25em\">\n",
       "<span style=\"font-weight: bold; font-size: 1.1em; display: block; margin-bottom: 8px;\"><u>🗣️ User: </u></span>    <div class=\"marked\" style=\"white-space: pre-wrap;\">Hello!</div>\n",
       "  </div>\n",
       "<script>if (window.htmx) htmx.process(document.body)</script></div>\n"
      ],
      "text/plain": [
       "div((span((u(('🗣️ User: ',),{}),),{'style': 'font-weight: bold; font-size: 1.1em; display: block; margin-bottom: 8px;'}), div(('Hello!',),{'class': 'marked', 'style': 'white-space: pre-wrap;'})),{'style': 'background: #272727; padding: 10px; font-size: 1.5em; width: 60%; align-self: center; text-align: right; border-radius: 1em; padding: 1.25em'})"
      ]
     },
     "execution_count": 5,
     "metadata": {},
     "output_type": "execute_result"
    }
   ],
   "source": [
    "# Test basic rendering\n",
    "from pylogue.session import Message\n",
    "\n",
    "renderer = ChatRenderer()\n",
    "msg = Message(role=\"User\", content=\"Hello!\")\n",
    "renderer.render_message(msg)"
   ]
  },
  {
   "cell_type": "code",
   "execution_count": 6,
   "id": "95fe54f7",
   "metadata": {},
   "outputs": [
    {
     "data": {
      "text/markdown": [
       "<div>\n",
       "  <div id=\"chat-cards\" class=\"chat-cards\" style=\"display: flex; flex-direction: column; gap: 10px;\">\n",
       "    <div style=\"background: #272727; padding: 10px; font-size: 1.5em; width: 60%; align-self: center; text-align: right; border-radius: 1em; padding: 1.25em\">\n",
       "<span style=\"font-weight: bold; font-size: 1.1em; display: block; margin-bottom: 8px;\"><u>🗣️ User: </u></span>      <div class=\"marked\" style=\"white-space: pre-wrap;\">Hi there!</div>\n",
       "    </div>\n",
       "    <div style=\"background: #3B3B3B; padding: 10px; font-size: 1.5em; width: 60%; align-self: center; text-align: left; border-radius: 1em; padding: 1.25em\">\n",
       "<span style=\"font-weight: bold; font-size: 1.1em; display: block; margin-bottom: 8px;\"><u>🕵️‍♂️ Assistant: </u></span>      <div class=\"marked\" style=\"white-space: pre-wrap;\">Hello! How can I help?</div>\n",
       "    </div>\n",
       "    <div style=\"background: #272727; padding: 10px; font-size: 1.5em; width: 60%; align-self: center; text-align: right; border-radius: 1em; padding: 1.25em\">\n",
       "<span style=\"font-weight: bold; font-size: 1.1em; display: block; margin-bottom: 8px;\"><u>🗣️ User: </u></span>      <div class=\"marked\" style=\"white-space: pre-wrap;\">What's the weather?</div>\n",
       "    </div>\n",
       "  </div>\n",
       "<script>if (window.htmx) htmx.process(document.body)</script></div>\n"
      ],
      "text/plain": [
       "div((div((span((u(('🗣️ User: ',),{}),),{'style': 'font-weight: bold; font-size: 1.1em; display: block; margin-bottom: 8px;'}), div(('Hi there!',),{'class': 'marked', 'style': 'white-space: pre-wrap;'})),{'style': 'background: #272727; padding: 10px; font-size: 1.5em; width: 60%; align-self: center; text-align: right; border-radius: 1em; padding: 1.25em'}), div((span((u(('🕵️\\u200d♂️ Assistant: ',),{}),),{'style': 'font-weight: bold; font-size: 1.1em; display: block; margin-bottom: 8px;'}), div(('Hello! How can I help?',),{'class': 'marked', 'style': 'white-space: pre-wrap;'})),{'style': 'background: #3B3B3B; padding: 10px; font-size: 1.5em; width: 60%; align-self: center; text-align: left; border-radius: 1em; padding: 1.25em'}), div((span((u(('🗣️ User: ',),{}),),{'style': 'font-weight: bold; font-size: 1.1em; display: block; margin-bottom: 8px;'}), div((\"What's the weather?\",),{'class': 'marked', 'style': 'white-space: pre-wrap;'})),{'style': 'background: #272727; padding: 10px; font-size: 1.5em; width: 60%; align-self: center; text-align: right; border-radius: 1em; padding: 1.25em'})),{'id': 'chat-cards', 'class': 'chat-cards', 'style': 'display: flex; flex-direction: column; gap: 10px;'})"
      ]
     },
     "execution_count": 6,
     "metadata": {},
     "output_type": "execute_result"
    }
   ],
   "source": [
    "# Test message list rendering\n",
    "messages = [\n",
    "    Message(role=\"User\", content=\"Hi there!\"),\n",
    "    Message(role=\"Assistant\", content=\"Hello! How can I help?\"),\n",
    "    Message(role=\"User\", content=\"What's the weather?\"),\n",
    "]\n",
    "\n",
    "renderer.render_messages(messages)"
   ]
  },
  {
   "cell_type": "code",
   "execution_count": 7,
   "id": "15183e77",
   "metadata": {},
   "outputs": [
    {
     "data": {
      "text/markdown": [
       "<div>\n",
       "  <input placeholder=\"Type a message...\" autofocus id=\"msg\" style=\"width: 60%; max-width: 600px; padding: 0.75em; font-size: 1em; border-radius: 0.5em\" name=\"msg\">\n",
       "<script>if (window.htmx) htmx.process(document.body)</script></div>\n"
      ],
      "text/plain": [
       "input((),{'placeholder': 'Type a message...', 'autofocus': True, 'id': 'msg', 'style': 'width: 60%; max-width: 600px; padding: 0.75em; font-size: 1em; border-radius: 0.5em', 'name': 'msg'})"
      ]
     },
     "execution_count": 7,
     "metadata": {},
     "output_type": "execute_result"
    }
   ],
   "source": [
    "# Test input rendering\n",
    "renderer.render_input()"
   ]
  },
  {
   "cell_type": "code",
   "execution_count": 8,
   "id": "8cd80c29",
   "metadata": {},
   "outputs": [
    {
     "data": {
      "text/markdown": [
       "<div>\n",
       "<form enctype=\"multipart/form-data\" ws-send id=\"form\" style=\"display: flex; justify-content: center; margin-top: 20px; padding: 20px;\" name=\"form\">    <input placeholder=\"Type a message...\" autofocus id=\"msg\" style=\"width: 60%; max-width: 600px; padding: 0.75em; font-size: 1em; border-radius: 0.5em\" name=\"msg\">\n",
       "</form><script>if (window.htmx) htmx.process(document.body)</script></div>\n"
      ],
      "text/plain": [
       "form((input((),{'placeholder': 'Type a message...', 'autofocus': True, 'id': 'msg', 'style': 'width: 60%; max-width: 600px; padding: 0.75em; font-size: 1em; border-radius: 0.5em', 'name': 'msg'}),),{'enctype': 'multipart/form-data', 'ws-send': True, 'id': 'form', 'style': 'display: flex; justify-content: center; margin-top: 20px; padding: 20px;', 'name': 'form'})"
      ]
     },
     "execution_count": 8,
     "metadata": {},
     "output_type": "execute_result"
    }
   ],
   "source": [
    "# Test full form\n",
    "renderer.render_form()"
   ]
  },
  {
   "cell_type": "code",
   "execution_count": 9,
   "id": "6ab36736",
   "metadata": {},
   "outputs": [
    {
     "data": {
      "text/markdown": [
       "<div>\n",
       "  <div>\n",
       "    <h1 style=\"text-align: center; padding: 1em;\">My Custom Chat</h1>\n",
       "    <div id=\"chat-cards\" class=\"chat-cards\" style=\"display: flex; flex-direction: column; gap: 10px;\">\n",
       "      <div style=\"background: #272727; padding: 10px; font-size: 1.5em; width: 60%; align-self: center; text-align: right; border-radius: 1em; padding: 1.25em\">\n",
       "<span style=\"font-weight: bold; font-size: 1.1em; display: block; margin-bottom: 8px;\"><u>🗣️ User: </u></span>        <div class=\"marked\" style=\"white-space: pre-wrap;\">Hi there!</div>\n",
       "      </div>\n",
       "      <div style=\"background: #3B3B3B; padding: 10px; font-size: 1.5em; width: 60%; align-self: center; text-align: left; border-radius: 1em; padding: 1.25em\">\n",
       "<span style=\"font-weight: bold; font-size: 1.1em; display: block; margin-bottom: 8px;\"><u>🕵️‍♂️ Assistant: </u></span>        <div class=\"marked\" style=\"white-space: pre-wrap;\">Hello! How can I help?</div>\n",
       "      </div>\n",
       "      <div style=\"background: #272727; padding: 10px; font-size: 1.5em; width: 60%; align-self: center; text-align: right; border-radius: 1em; padding: 1.25em\">\n",
       "<span style=\"font-weight: bold; font-size: 1.1em; display: block; margin-bottom: 8px;\"><u>🗣️ User: </u></span>        <div class=\"marked\" style=\"white-space: pre-wrap;\">What's the weather?</div>\n",
       "      </div>\n",
       "    </div>\n",
       "<form enctype=\"multipart/form-data\" ws-send id=\"form\" style=\"display: flex; justify-content: center; margin-top: 20px; padding: 20px;\" name=\"form\">      <input placeholder=\"Type a message...\" autofocus id=\"msg\" style=\"width: 60%; max-width: 600px; padding: 0.75em; font-size: 1em; border-radius: 0.5em\" name=\"msg\">\n",
       "</form>  </div>\n",
       "<script>if (window.htmx) htmx.process(document.body)</script></div>\n"
      ],
      "text/plain": [
       "div((h1(('My Custom Chat',),{'style': 'text-align: center; padding: 1em;'}), div((div((span((u(('🗣️ User: ',),{}),),{'style': 'font-weight: bold; font-size: 1.1em; display: block; margin-bottom: 8px;'}), div(('Hi there!',),{'class': 'marked', 'style': 'white-space: pre-wrap;'})),{'style': 'background: #272727; padding: 10px; font-size: 1.5em; width: 60%; align-self: center; text-align: right; border-radius: 1em; padding: 1.25em'}), div((span((u(('🕵️\\u200d♂️ Assistant: ',),{}),),{'style': 'font-weight: bold; font-size: 1.1em; display: block; margin-bottom: 8px;'}), div(('Hello! How can I help?',),{'class': 'marked', 'style': 'white-space: pre-wrap;'})),{'style': 'background: #3B3B3B; padding: 10px; font-size: 1.5em; width: 60%; align-self: center; text-align: left; border-radius: 1em; padding: 1.25em'}), div((span((u(('🗣️ User: ',),{}),),{'style': 'font-weight: bold; font-size: 1.1em; display: block; margin-bottom: 8px;'}), div((\"What's the weather?\",),{'class': 'marked', 'style': 'white-space: pre-wrap;'})),{'style': 'background: #272727; padding: 10px; font-size: 1.5em; width: 60%; align-self: center; text-align: right; border-radius: 1em; padding: 1.25em'})),{'id': 'chat-cards', 'class': 'chat-cards', 'style': 'display: flex; flex-direction: column; gap: 10px;'}), form((input((),{'placeholder': 'Type a message...', 'autofocus': True, 'id': 'msg', 'style': 'width: 60%; max-width: 600px; padding: 0.75em; font-size: 1em; border-radius: 0.5em', 'name': 'msg'}),),{'enctype': 'multipart/form-data', 'ws-send': True, 'id': 'form', 'style': 'display: flex; justify-content: center; margin-top: 20px; padding: 20px;', 'name': 'form'})),{})"
      ]
     },
     "execution_count": 9,
     "metadata": {},
     "output_type": "execute_result"
    }
   ],
   "source": [
    "# Test complete interface\n",
    "renderer.render_chat_interface(messages=messages, title=\"My Custom Chat\")"
   ]
  },
  {
   "cell_type": "code",
   "execution_count": 11,
   "id": "1229137b",
   "metadata": {},
   "outputs": [
    {
     "data": {
      "text/markdown": [
       "<div>\n",
       "  <div id=\"chat-cards\" class=\"chat-cards\" style=\"display: flex; flex-direction: column; gap: 10px;\">\n",
       "    <div style=\"background: #482F00; padding: 10px; font-size: 1.5em; width: 60%; align-self: center; text-align: right; border-radius: 1em; padding: 1.25em\">\n",
       "<span style=\"font-weight: bold; font-size: 1.1em; display: block; margin-bottom: 8px;\"><u>👤 User: </u></span>      <div class=\"marked\" style=\"white-space: pre-wrap;\">Hi there!</div>\n",
       "    </div>\n",
       "    <div style=\"background: #005460; padding: 10px; font-size: 1.5em; width: 60%; align-self: center; text-align: left; border-radius: 1em; padding: 1.25em\">\n",
       "<span style=\"font-weight: bold; font-size: 1.1em; display: block; margin-bottom: 8px;\"><u>🤖 Assistant: </u></span>      <div class=\"marked\" style=\"white-space: pre-wrap;\">Hello! How can I help?</div>\n",
       "    </div>\n",
       "    <div style=\"background: #482F00; padding: 10px; font-size: 1.5em; width: 60%; align-self: center; text-align: right; border-radius: 1em; padding: 1.25em\">\n",
       "<span style=\"font-weight: bold; font-size: 1.1em; display: block; margin-bottom: 8px;\"><u>👤 User: </u></span>      <div class=\"marked\" style=\"white-space: pre-wrap;\">What's the weather?</div>\n",
       "    </div>\n",
       "  </div>\n",
       "<script>if (window.htmx) htmx.process(document.body)</script></div>\n"
      ],
      "text/plain": [
       "div((div((span((u(('👤 User: ',),{}),),{'style': 'font-weight: bold; font-size: 1.1em; display: block; margin-bottom: 8px;'}), div(('Hi there!',),{'class': 'marked', 'style': 'white-space: pre-wrap;'})),{'style': 'background: #482F00; padding: 10px; font-size: 1.5em; width: 60%; align-self: center; text-align: right; border-radius: 1em; padding: 1.25em'}), div((span((u(('🤖 Assistant: ',),{}),),{'style': 'font-weight: bold; font-size: 1.1em; display: block; margin-bottom: 8px;'}), div(('Hello! How can I help?',),{'class': 'marked', 'style': 'white-space: pre-wrap;'})),{'style': 'background: #005460; padding: 10px; font-size: 1.5em; width: 60%; align-self: center; text-align: left; border-radius: 1em; padding: 1.25em'}), div((span((u(('👤 User: ',),{}),),{'style': 'font-weight: bold; font-size: 1.1em; display: block; margin-bottom: 8px;'}), div((\"What's the weather?\",),{'class': 'marked', 'style': 'white-space: pre-wrap;'})),{'style': 'background: #482F00; padding: 10px; font-size: 1.5em; width: 60%; align-self: center; text-align: right; border-radius: 1em; padding: 1.25em'})),{'id': 'chat-cards', 'class': 'chat-cards', 'style': 'display: flex; flex-direction: column; gap: 10px;'})"
      ]
     },
     "execution_count": 11,
     "metadata": {},
     "output_type": "execute_result"
    }
   ],
   "source": [
    "# Test with custom card styling\n",
    "custom_card = ChatCard(\n",
    "    user_color=\"#482F00\",\n",
    "    assistant_color=\"#005460\",\n",
    "    user_emoji=\"👤\",\n",
    "    assistant_emoji=\"🤖\",\n",
    ")\n",
    "\n",
    "custom_renderer = ChatRenderer(card=custom_card)\n",
    "custom_renderer.render_messages(messages)"
   ]
  },
  {
   "cell_type": "code",
   "execution_count": null,
   "id": "98a9b07a",
   "metadata": {},
   "outputs": [],
   "source": []
  }
 ],
 "metadata": {
  "kernelspec": {
   "display_name": "pylogue (3.13.3)",
   "language": "python",
   "name": "python3"
  },
  "language_info": {
   "codemirror_mode": {
    "name": "ipython",
    "version": 3
   },
   "file_extension": ".py",
   "mimetype": "text/x-python",
   "name": "python",
   "nbconvert_exporter": "python",
   "pygments_lexer": "ipython3",
   "version": "3.13.3"
  }
 },
 "nbformat": 4,
 "nbformat_minor": 5
}
