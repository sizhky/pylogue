{
 "cells": [
  {
   "cell_type": "code",
   "execution_count": 1,
   "id": "f7194ef6",
   "metadata": {},
   "outputs": [],
   "source": [
    "# | default_exp examples"
   ]
  },
  {
   "cell_type": "markdown",
   "id": "6cc67413",
   "metadata": {},
   "source": [
    "# ChatApp Examples\n",
    "\n",
    "This notebook demonstrates various ways to use the ChatApp with full DI architecture."
   ]
  },
  {
   "cell_type": "code",
   "execution_count": 2,
   "id": "44044207",
   "metadata": {},
   "outputs": [],
   "source": [
    "from fasthtml.common import *\n",
    "import asyncio\n",
    "from pylogue.chatapp import ChatApp, ChatAppConfig, create_default_chat_app\n",
    "from pylogue.session import InMemorySessionManager, Message, ChatSession\n",
    "from pylogue.service import ChatService, ContextAwareResponder\n",
    "from pylogue.renderer import ChatRenderer\n",
    "from pylogue.cards import ChatCard"
   ]
  },
  {
   "cell_type": "markdown",
   "id": "8671224c",
   "metadata": {},
   "source": [
    "## Example 1: Simple Echo Bot\n",
    "\n",
    "The simplest possible chat app - just echoes back what you say."
   ]
  },
  {
   "cell_type": "code",
   "execution_count": 3,
   "id": "c3771078",
   "metadata": {},
   "outputs": [
    {
     "name": "stdout",
     "output_type": "stream",
     "text": [
      "✅ Echo bot ready!\n"
     ]
    }
   ],
   "source": [
    "async def echo_bot(message: str, context=None) -> str:\n",
    "    \"\"\"Simple echo responder.\"\"\"\n",
    "    await asyncio.sleep(0.3)  # Simulate processing\n",
    "    return f\"🔊 You said: {message}\"\n",
    "\n",
    "\n",
    "# Create with one line\n",
    "echo_app = create_default_chat_app(responder=echo_bot)\n",
    "\n",
    "# To run: echo_app.run(port=5001)\n",
    "print(\"✅ Echo bot ready!\")"
   ]
  },
  {
   "cell_type": "markdown",
   "id": "c52647cb",
   "metadata": {},
   "source": [
    "## Example 2: Custom Styled Chat\n",
    "\n",
    "Customize colors, emojis, and styling."
   ]
  },
  {
   "cell_type": "code",
   "execution_count": 4,
   "id": "b1d54462",
   "metadata": {},
   "outputs": [
    {
     "name": "stdout",
     "output_type": "stream",
     "text": [
      "✅ Magic assistant ready!\n"
     ]
    }
   ],
   "source": [
    "# Define custom styling\n",
    "custom_card = ChatCard(\n",
    "    user_color=\"#2C1810\",  # Dark brown\n",
    "    assistant_color=\"#1A2332\",  # Dark blue\n",
    "    user_emoji=\"👨‍💼\",\n",
    "    assistant_emoji=\"🔮\",\n",
    "    width=\"70%\",\n",
    "    font_size=\"1.3em\",\n",
    "    border_radius=\"1.5em\",\n",
    ")\n",
    "\n",
    "custom_config = ChatAppConfig(\n",
    "    app_title=\"✨ Magic Assistant\",\n",
    "    page_title=\"Magic Chat\",\n",
    "    bg_color=\"#0f0f23\",\n",
    ")\n",
    "\n",
    "\n",
    "async def magic_responder(message: str, context=None) -> str:\n",
    "    \"\"\"Mystical responder.\"\"\"\n",
    "    await asyncio.sleep(0.4)\n",
    "    responses = [\n",
    "        f\"🔮 The spirits say: {message.upper()}\",\n",
    "        f\"✨ Magic reveals: {message[::-1]}\",  # Reversed\n",
    "        f\"🌟 The oracle speaks: {len(message)} mystical symbols detected!\",\n",
    "    ]\n",
    "    import random\n",
    "\n",
    "    return random.choice(responses)\n",
    "\n",
    "\n",
    "magic_app = create_default_chat_app(\n",
    "    responder=magic_responder, config=custom_config, card=custom_card\n",
    ")\n",
    "\n",
    "print(\"✅ Magic assistant ready!\")"
   ]
  },
  {
   "cell_type": "markdown",
   "id": "ae8c3460",
   "metadata": {},
   "source": [
    "## Example 3: Context-Aware Assistant\n",
    "\n",
    "Uses conversation history to provide context-aware responses."
   ]
  },
  {
   "cell_type": "code",
   "execution_count": 5,
   "id": "f0f6494f",
   "metadata": {},
   "outputs": [
    {
     "name": "stdout",
     "output_type": "stream",
     "text": [
      "✅ Smart assistant ready!\n"
     ]
    }
   ],
   "source": [
    "class SmartResponder:\n",
    "    \"\"\"Responder that tracks conversation context.\"\"\"\n",
    "\n",
    "    def __init__(self):\n",
    "        self.keywords = {\n",
    "            \"hello\": \"👋 Hello! Nice to meet you!\",\n",
    "            \"bye\": \"👋 Goodbye! Have a great day!\",\n",
    "            \"help\": \"💡 I can help you with various tasks. Just ask!\",\n",
    "            \"thanks\": \"😊 You're welcome!\",\n",
    "        }\n",
    "\n",
    "    async def __call__(self, message: str, context=None) -> str:\n",
    "        await asyncio.sleep(0.2)\n",
    "\n",
    "        # Check conversation history\n",
    "        if context and isinstance(context, list):\n",
    "            message_count = len(context)\n",
    "\n",
    "            # Check for keywords\n",
    "            msg_lower = message.lower()\n",
    "            for keyword, response in self.keywords.items():\n",
    "                if keyword in msg_lower:\n",
    "                    return f\"{response}\\n\\n_We've exchanged {message_count} messages so far._\"\n",
    "\n",
    "        return f\"📝 Interesting! You said: '{message}'\"\n",
    "\n",
    "\n",
    "# Context provider to give responder access to history\n",
    "def provide_history(session: ChatSession):\n",
    "    \"\"\"Provide message history as context.\"\"\"\n",
    "    return session.get_messages()\n",
    "\n",
    "\n",
    "smart_app = create_default_chat_app(\n",
    "    responder=SmartResponder(),\n",
    "    context_provider=provide_history,\n",
    "    config=ChatAppConfig(app_title=\"🧠 Smart Assistant\"),\n",
    ")\n",
    "\n",
    "print(\"✅ Smart assistant ready!\")"
   ]
  },
  {
   "cell_type": "markdown",
   "id": "8f8db18d",
   "metadata": {},
   "source": [
    "## Example 4: Multi-Language Code Assistant\n",
    "\n",
    "Simulates a code assistant with syntax highlighting."
   ]
  },
  {
   "cell_type": "code",
   "execution_count": 6,
   "id": "a6edf314",
   "metadata": {},
   "outputs": [
    {
     "name": "stdout",
     "output_type": "stream",
     "text": [
      "✅ Code assistant ready!\n"
     ]
    }
   ],
   "source": [
    "async def code_assistant(message: str, context=None) -> str:\n",
    "    \"\"\"Code-focused assistant.\"\"\"\n",
    "    await asyncio.sleep(0.5)\n",
    "\n",
    "    msg_lower = message.lower()\n",
    "\n",
    "    if \"python\" in msg_lower:\n",
    "        return \"\"\"Here's a Python example:\n",
    "\n",
    "```python\n",
    "def hello(name: str) -> str:\n",
    "    return f\"Hello, {name}!\"\n",
    "\n",
    "print(hello(\"World\"))\n",
    "```\n",
    "\"\"\"\n",
    "    elif \"javascript\" in msg_lower or \"js\" in msg_lower:\n",
    "        return \"\"\"Here's a JavaScript example:\n",
    "\n",
    "```javascript\n",
    "function hello(name) {\n",
    "    return `Hello, ${name}!`;\n",
    "}\n",
    "\n",
    "console.log(hello(\"World\"));\n",
    "```\n",
    "\"\"\"\n",
    "    elif \"help\" in msg_lower:\n",
    "        return \"\"\"I can help with:\n",
    "- Python code examples\n",
    "- JavaScript code examples\n",
    "- General programming questions\n",
    "\n",
    "Just ask me about a language!\n",
    "\"\"\"\n",
    "    else:\n",
    "        return f\"💻 You asked: {message}\\n\\nTry asking about Python or JavaScript!\"\n",
    "\n",
    "\n",
    "code_app = create_default_chat_app(\n",
    "    responder=code_assistant,\n",
    "    config=ChatAppConfig(\n",
    "        app_title=\"💻 Code Assistant\",\n",
    "        syntax_highlighting=True,\n",
    "        highlight_langs=[\"python\", \"javascript\", \"typescript\", \"html\", \"css\"],\n",
    "    ),\n",
    "    card=ChatCard(\n",
    "        user_color=\"#1e1e1e\",\n",
    "        assistant_color=\"#252526\",\n",
    "        user_emoji=\"👨‍💻\",\n",
    "        assistant_emoji=\"🤖\",\n",
    "    ),\n",
    ")\n",
    "\n",
    "print(\"✅ Code assistant ready!\")"
   ]
  },
  {
   "cell_type": "markdown",
   "id": "99d26835",
   "metadata": {},
   "source": [
    "## Example 5: Full Custom DI - Supply Chain Analyst\n",
    "\n",
    "Complete custom implementation with specialized components."
   ]
  },
  {
   "cell_type": "code",
   "execution_count": 7,
   "id": "b602da3d",
   "metadata": {},
   "outputs": [
    {
     "name": "stdout",
     "output_type": "stream",
     "text": [
      "✅ Supply chain assistant ready!\n"
     ]
    }
   ],
   "source": [
    "class SupplyChainResponder:\n",
    "    \"\"\"Specialized responder for supply chain queries.\"\"\"\n",
    "\n",
    "    def __init__(self):\n",
    "        self.knowledge = {\n",
    "            \"inventory\": \"📦 Inventory management tracks stock levels and movements.\",\n",
    "            \"logistics\": \"🚚 Logistics coordinates transportation and delivery.\",\n",
    "            \"demand\": \"📊 Demand forecasting predicts future needs.\",\n",
    "            \"supplier\": \"🏭 Supplier management ensures reliable sourcing.\",\n",
    "            \"rca\": \"🔍 Root Cause Analysis identifies problem origins.\",\n",
    "        }\n",
    "\n",
    "    async def __call__(self, message: str, context=None) -> str:\n",
    "        await asyncio.sleep(0.3)\n",
    "\n",
    "        msg_lower = message.lower()\n",
    "\n",
    "        # Check for known topics\n",
    "        for topic, info in self.knowledge.items():\n",
    "            if topic in msg_lower:\n",
    "                return f\"{info}\\n\\nWould you like to know more about {topic}?\"\n",
    "\n",
    "        # Default response with context\n",
    "        if context and len(context) > 0:\n",
    "            return f\"📋 Analyzing: {message}\\n\\nBased on our conversation history, I'm tracking your supply chain queries.\"\n",
    "\n",
    "        return f\"🔍 Let me analyze: {message}\\n\\nAsk me about: inventory, logistics, demand, suppliers, or RCA.\"\n",
    "\n",
    "\n",
    "# Custom initial messages\n",
    "def supply_chain_initial():\n",
    "    return [\n",
    "        Message(\n",
    "            role=\"Assistant\",\n",
    "            content=\"👋 Welcome to Supply Chain RCA Assistant!\\n\\nI can help you with:\\n- 📦 Inventory issues\\n- 🚚 Logistics problems\\n- 📊 Demand analysis\\n- 🏭 Supplier concerns\\n\\nWhat would you like to analyze?\",\n",
    "        )\n",
    "    ]\n",
    "\n",
    "\n",
    "# Create with full DI\n",
    "supply_chain_app = ChatApp(\n",
    "    session_manager=InMemorySessionManager(),\n",
    "    chat_service=ChatService(\n",
    "        responder=SupplyChainResponder(), context_provider=lambda s: s.get_messages()\n",
    "    ),\n",
    "    renderer=ChatRenderer(\n",
    "        card=ChatCard(\n",
    "            user_color=\"#1a3a1a\",\n",
    "            assistant_color=\"#1a1a3a\",\n",
    "            user_emoji=\"👤\",\n",
    "            assistant_emoji=\"🔍\",\n",
    "            width=\"75%\",\n",
    "        ),\n",
    "        input_placeholder=\"Describe your supply chain issue...\",\n",
    "    ),\n",
    "    config=ChatAppConfig(\n",
    "        app_title=\"Supply Chain RCA Assistant\",\n",
    "        page_title=\"Supply Chain Analysis\",\n",
    "        bg_color=\"#0d1117\",\n",
    "        initial_messages_factory=supply_chain_initial,\n",
    "    ),\n",
    ")\n",
    "\n",
    "print(\"✅ Supply chain assistant ready!\")"
   ]
  },
  {
   "cell_type": "markdown",
   "id": "c1841a95",
   "metadata": {},
   "source": [
    "## Running Any Example\n",
    "\n",
    "To run any of the apps above:\n",
    "\n",
    "```python\n",
    "# Choose your app\n",
    "app = echo_app  # or magic_app, smart_app, code_app, supply_chain_app\n",
    "\n",
    "# Run it\n",
    "app.run(host=\"0.0.0.0\", port=5001)\n",
    "```\n",
    "\n",
    "Then open your browser to `http://localhost:5001`"
   ]
  },
  {
   "cell_type": "markdown",
   "id": "8026832b",
   "metadata": {},
   "source": [
    "## Advanced: Adding Custom Routes\n",
    "\n",
    "You can extend any app with custom routes:"
   ]
  },
  {
   "cell_type": "code",
   "execution_count": 8,
   "id": "14962914",
   "metadata": {},
   "outputs": [
    {
     "name": "stdout",
     "output_type": "stream",
     "text": [
      "✅ Added custom routes: /health and /stats\n"
     ]
    }
   ],
   "source": [
    "# Get the underlying FastHTML app\n",
    "fasthtml_app = supply_chain_app.get_app()\n",
    "\n",
    "\n",
    "# Add a custom route\n",
    "@fasthtml_app.route(\"/health\")\n",
    "def health_check():\n",
    "    return {\"status\": \"healthy\", \"app\": \"supply_chain\"}\n",
    "\n",
    "\n",
    "# Add another route\n",
    "@fasthtml_app.route(\"/stats\")\n",
    "def stats():\n",
    "    manager = supply_chain_app.session_manager\n",
    "    return {\n",
    "        \"active_sessions\": len(manager.list_sessions()),\n",
    "        \"app_type\": \"Supply Chain RCA\",\n",
    "    }\n",
    "\n",
    "\n",
    "print(\"✅ Added custom routes: /health and /stats\")"
   ]
  },
  {
   "cell_type": "markdown",
   "id": "91c053bb",
   "metadata": {},
   "source": [
    "## Testing Components Individually"
   ]
  },
  {
   "cell_type": "code",
   "execution_count": 9,
   "id": "b7e4ed31",
   "metadata": {},
   "outputs": [
    {
     "name": "stdout",
     "output_type": "stream",
     "text": [
      "Responder test: 📦 Inventory management tracks stock levels and mov...\n"
     ]
    }
   ],
   "source": [
    "# Test a responder\n",
    "responder = SupplyChainResponder()\n",
    "response = await responder(\"Tell me about inventory\", None)\n",
    "print(f\"Responder test: {response[:50]}...\")"
   ]
  },
  {
   "cell_type": "code",
   "execution_count": 10,
   "id": "68f76b51",
   "metadata": {},
   "outputs": [
    {
     "name": "stdout",
     "output_type": "stream",
     "text": [
      "Session has 2 messages\n",
      "Messages: [{'role': 'User', 'content': 'Test message', 'id': '4d4d6a07-08a0-417d-9b10-541cd4fc9950'}, {'role': 'Assistant', 'content': 'Test response', 'id': '2cb9f2db-6b12-4918-ba5a-49c9e63dcd27'}]\n"
     ]
    }
   ],
   "source": [
    "# Test session management\n",
    "from pylogue.session import InMemorySessionManager\n",
    "\n",
    "manager = InMemorySessionManager()\n",
    "session = manager.create_session(\"test-session\")\n",
    "session.add_message(\"User\", \"Test message\")\n",
    "session.add_message(\"Assistant\", \"Test response\")\n",
    "\n",
    "print(f\"Session has {len(session)} messages\")\n",
    "print(f\"Messages: {session.get_message_dicts()}\")"
   ]
  },
  {
   "cell_type": "code",
   "execution_count": 11,
   "id": "e8383134",
   "metadata": {},
   "outputs": [
    {
     "data": {
      "text/markdown": [
       "<div>\n",
       "  <div id=\"chat-cards\" class=\"chat-cards\" style=\"display: flex; flex-direction: column; gap: 10px;\">\n",
       "    <div style=\"background: #2a2a2a; padding: 10px; font-size: 1.5em; width: 60%; align-self: center; text-align: right; border-radius: 1em; padding: 1.25em\">\n",
       "<span style=\"font-weight: bold; font-size: 1.1em; display: block; margin-bottom: 8px;\"><u>🗣️ User: </u></span>      <div class=\"marked\" style=\"white-space: pre-wrap;\">Hello!</div>\n",
       "    </div>\n",
       "    <div style=\"background: #3a3a3a; padding: 10px; font-size: 1.5em; width: 60%; align-self: center; text-align: left; border-radius: 1em; padding: 1.25em\">\n",
       "<span style=\"font-weight: bold; font-size: 1.1em; display: block; margin-bottom: 8px;\"><u>🕵️‍♂️ Assistant: </u></span>      <div class=\"marked\" style=\"white-space: pre-wrap;\">Hi! How can I help?</div>\n",
       "    </div>\n",
       "  </div>\n",
       "<script>if (window.htmx) htmx.process(document.body)</script></div>\n"
      ],
      "text/plain": [
       "div((div((span((u(('🗣️ User: ',),{}),),{'style': 'font-weight: bold; font-size: 1.1em; display: block; margin-bottom: 8px;'}), div(('Hello!',),{'class': 'marked', 'style': 'white-space: pre-wrap;'})),{'style': 'background: #2a2a2a; padding: 10px; font-size: 1.5em; width: 60%; align-self: center; text-align: right; border-radius: 1em; padding: 1.25em'}), div((span((u(('🕵️\\u200d♂️ Assistant: ',),{}),),{'style': 'font-weight: bold; font-size: 1.1em; display: block; margin-bottom: 8px;'}), div(('Hi! How can I help?',),{'class': 'marked', 'style': 'white-space: pre-wrap;'})),{'style': 'background: #3a3a3a; padding: 10px; font-size: 1.5em; width: 60%; align-self: center; text-align: left; border-radius: 1em; padding: 1.25em'})),{'id': 'chat-cards', 'class': 'chat-cards', 'style': 'display: flex; flex-direction: column; gap: 10px;'})"
      ]
     },
     "execution_count": 11,
     "metadata": {},
     "output_type": "execute_result"
    }
   ],
   "source": [
    "# Test renderer\n",
    "from fasthtml.jupyter import render_ft\n",
    "\n",
    "render_ft()\n",
    "\n",
    "test_messages = [\n",
    "    Message(role=\"User\", content=\"Hello!\"),\n",
    "    Message(role=\"Assistant\", content=\"Hi! How can I help?\"),\n",
    "]\n",
    "\n",
    "renderer = ChatRenderer(card=ChatCard(user_color=\"#2a2a2a\", assistant_color=\"#3a3a3a\"))\n",
    "renderer.render_messages(test_messages)"
   ]
  },
  {
   "cell_type": "code",
   "execution_count": null,
   "id": "b0c544ee",
   "metadata": {},
   "outputs": [],
   "source": []
  }
 ],
 "metadata": {
  "kernelspec": {
   "display_name": "pylogue (3.13.3)",
   "language": "python",
   "name": "python3"
  },
  "language_info": {
   "codemirror_mode": {
    "name": "ipython",
    "version": 3
   },
   "file_extension": ".py",
   "mimetype": "text/x-python",
   "name": "python",
   "nbconvert_exporter": "python",
   "pygments_lexer": "ipython3",
   "version": "3.13.3"
  }
 },
 "nbformat": 4,
 "nbformat_minor": 5
}
