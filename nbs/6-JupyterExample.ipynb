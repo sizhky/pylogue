{
 "cells": [
  {
   "cell_type": "markdown",
   "id": "6fe695fe",
   "metadata": {},
   "source": [
    "## Emergency: Force Kill Stuck Ports\n",
    "\n",
    "If your Jupyter kernel crashes and ports are still bound, use these terminal commands:\n",
    "\n",
    "**macOS/Linux:**\n",
    "```bash\n",
    "# Find process using port 5001\n",
    "lsof -ti:5001\n",
    "\n",
    "# Kill process on port 5001\n",
    "lsof -ti:5001 | xargs kill\n",
    "\n",
    "# Force kill if needed\n",
    "lsof -ti:5001 | xargs kill -9\n",
    "```\n",
    "\n",
    "**Or restart Jupyter kernel**: Kernel → Restart Kernel"
   ]
  },
  {
   "cell_type": "markdown",
   "id": "6a874be7",
   "metadata": {},
   "source": [
    "## Auto-Reload in Python Scripts\n",
    "\n",
    "For scripts (`.py` files), enable auto-reload using uvicorn directly:\n",
    "\n",
    "**1. Structure your script with app at module level:**\n",
    "```python\n",
    "# my_bot.py\n",
    "from pylogue.chatapp import create_default_chat_app\n",
    "\n",
    "async def my_responder(msg: str, context=None) -> str:\n",
    "    return f\"Response: {msg}\"\n",
    "\n",
    "# Create app at module level (not inside if __name__)\n",
    "app = create_default_chat_app(responder=my_responder)\n",
    "\n",
    "if __name__ == \"__main__\":\n",
    "    app.run(port=5001)\n",
    "```\n",
    "\n",
    "**2. Run with uvicorn for auto-reload:**\n",
    "```bash\n",
    "# From the directory containing my_bot.py\n",
    "uvicorn my_bot:app --reload --port 5001\n",
    "\n",
    "# Or with full path\n",
    "uvicorn scripts.examples.basic-functionality.1-echo-bot:echo_app --reload --port 5001\n",
    "```\n",
    "\n",
    "Now any changes to the file will automatically restart the server!"
   ]
  },
  {
   "cell_type": "markdown",
   "id": "e14c5159",
   "metadata": {},
   "source": [
    "# Running Pylogue in Jupyter Notebooks\n",
    "\n",
    "This notebook shows how to run Pylogue chat applications directly in Jupyter notebooks using FastHTML's Jupyter utilities."
   ]
  },
  {
   "cell_type": "code",
   "execution_count": 1,
   "id": "97b1a797",
   "metadata": {},
   "outputs": [],
   "source": [
    "import asyncio\n",
    "from fasthtml.common import *\n",
    "from fasthtml.jupyter import JupyUvi, HTMX\n",
    "from pylogue.chatapp import create_default_chat_app"
   ]
  },
  {
   "cell_type": "markdown",
   "id": "31c3f049",
   "metadata": {},
   "source": [
    "## Method 1: Using JupyUvi (Recommended)\n",
    "\n",
    "`JupyUvi` starts a uvicorn server in a background thread, perfect for Jupyter notebooks."
   ]
  },
  {
   "cell_type": "code",
   "execution_count": null,
   "id": "87cf848d",
   "metadata": {},
   "outputs": [
    {
     "name": "stdout",
     "output_type": "stream",
     "text": [
      "⚠️ Stop attempt: name 'server' is not defined\n"
     ]
    },
    {
     "data": {
      "text/html": [
       "\n",
       "<script>\n",
       "document.body.addEventListener('htmx:configRequest', (event) => {\n",
       "    if(event.detail.path.includes('://')) return;\n",
       "    htmx.config.selfRequestsOnly=false;\n",
       "    event.detail.path = `${location.protocol}//${location.hostname}:5005${event.detail.path}`;\n",
       "});\n",
       "</script>"
      ],
      "text/plain": [
       "<IPython.core.display.HTML object>"
      ]
     },
     "metadata": {},
     "output_type": "display_data"
    },
    {
     "name": "stdout",
     "output_type": "stream",
     "text": [
      "✅ Server running at http://localhost:5005\n"
     ]
    }
   ],
   "source": [
    "# Define a simple responder\n",
    "import random, time\n",
    "\n",
    "\n",
    "async def my_responder(message: str, context=None) -> str:\n",
    "    s = random.random() * 2\n",
    "    await asyncio.sleep(s)\n",
    "    return f\"🤖 Response: {message.upper()}\\n⏱️ Waited {s:.2f}s\"\n",
    "\n",
    "\n",
    "# Try to stop existing server\n",
    "try:\n",
    "    time.sleep(1)\n",
    "    server.stop()\n",
    "    # Wait for port to be free\n",
    "    time.sleep(1)\n",
    "except Exception as e:\n",
    "    print(f\"⚠️ Stop attempt: {e}\")\n",
    "\n",
    "# Create and start new server\n",
    "app = create_default_chat_app(responder=my_responder)\n",
    "port = 5005\n",
    "server = JupyUvi(app.get_app(), port=port)\n",
    "print(f\"✅ Server running at http://localhost:{port}\")"
   ]
  },
  {
   "cell_type": "markdown",
   "id": "0c1355de",
   "metadata": {},
   "source": [
    "The server is now running! You can:\n",
    "1. Access it at: http://localhost:5001\n",
    "2. Display it in an iframe below (uncomment the next cell to see it)\n",
    "\n",
    "**To make changes**: Just modify the `my_responder` function above and re-run the cell. The `restart_server()` helper will safely stop and restart."
   ]
  },
  {
   "cell_type": "code",
   "execution_count": 3,
   "id": "36b50812",
   "metadata": {},
   "outputs": [],
   "source": [
    "# Display the app in an iframe within the notebook\n",
    "# Uncomment the line below to see the app embedded in the notebook\n",
    "# HTMX(port=5005)"
   ]
  },
  {
   "cell_type": "markdown",
   "id": "96405e83",
   "metadata": {},
   "source": [
    "## Stopping Servers\n",
    "\n",
    "Always stop servers when you're done to free up ports:"
   ]
  },
  {
   "cell_type": "code",
   "execution_count": 4,
   "id": "bad655a9",
   "metadata": {},
   "outputs": [
    {
     "ename": "TypeError",
     "evalue": "'str' object cannot be interpreted as an integer",
     "output_type": "error",
     "traceback": [
      "\u001b[31m---------------------------------------------------------------------------\u001b[39m",
      "\u001b[31mTypeError\u001b[39m                                 Traceback (most recent call last)",
      "\u001b[36mCell\u001b[39m\u001b[36m \u001b[39m\u001b[32mIn[4]\u001b[39m\u001b[32m, line 2\u001b[39m\n\u001b[32m      1\u001b[39m \u001b[38;5;66;03m# Stop all servers\u001b[39;00m\n\u001b[32m----> \u001b[39m\u001b[32m2\u001b[39m \u001b[43mserver\u001b[49m\u001b[43m.\u001b[49m\u001b[43mstop\u001b[49m\u001b[43m(\u001b[49m\u001b[43m)\u001b[49m\n",
      "\u001b[36mFile \u001b[39m\u001b[32m~/Code/Personal/pylogue/.venv/lib/python3.13/site-packages/fasthtml/jupyter.py:98\u001b[39m, in \u001b[36mJupyUvi.stop\u001b[39m\u001b[34m(self)\u001b[39m\n\u001b[32m     96\u001b[39m \u001b[38;5;28;01mdef\u001b[39;00m\u001b[38;5;250m \u001b[39m\u001b[34mstop\u001b[39m(\u001b[38;5;28mself\u001b[39m):\n\u001b[32m     97\u001b[39m     \u001b[38;5;28mself\u001b[39m.server.should_exit = \u001b[38;5;28;01mTrue\u001b[39;00m\n\u001b[32m---> \u001b[39m\u001b[32m98\u001b[39m     \u001b[43mwait_port_free\u001b[49m\u001b[43m(\u001b[49m\u001b[38;5;28;43mself\u001b[39;49m\u001b[43m.\u001b[49m\u001b[43mport\u001b[49m\u001b[43m)\u001b[49m\n",
      "\u001b[36mFile \u001b[39m\u001b[32m~/Code/Personal/pylogue/.venv/lib/python3.13/site-packages/fasthtml/jupyter.py:53\u001b[39m, in \u001b[36mwait_port_free\u001b[39m\u001b[34m(port, host, max_wait)\u001b[39m\n\u001b[32m     51\u001b[39m \u001b[33m\"\u001b[39m\u001b[33mWait for `port` to be free on `host`\u001b[39m\u001b[33m\"\u001b[39m\n\u001b[32m     52\u001b[39m start_time = time.time()\n\u001b[32m---> \u001b[39m\u001b[32m53\u001b[39m \u001b[38;5;28;01mwhile\u001b[39;00m \u001b[38;5;129;01mnot\u001b[39;00m \u001b[43mis_port_free\u001b[49m\u001b[43m(\u001b[49m\u001b[43mport\u001b[49m\u001b[43m)\u001b[49m:\n\u001b[32m     54\u001b[39m     \u001b[38;5;28;01mif\u001b[39;00m time.time() - start_time>max_wait: \u001b[38;5;28;01mreturn\u001b[39;00m \u001b[38;5;28mprint\u001b[39m(\u001b[33mf\u001b[39m\u001b[33m\"\u001b[39m\u001b[33mTimeout\u001b[39m\u001b[33m\"\u001b[39m)\n\u001b[32m     55\u001b[39m     time.sleep(\u001b[32m0.1\u001b[39m)\n",
      "\u001b[36mFile \u001b[39m\u001b[32m~/Code/Personal/pylogue/.venv/lib/python3.13/site-packages/fasthtml/jupyter.py:44\u001b[39m, in \u001b[36mis_port_free\u001b[39m\u001b[34m(port, host)\u001b[39m\n\u001b[32m     42\u001b[39m \u001b[38;5;28;01mtry\u001b[39;00m:\n\u001b[32m     43\u001b[39m     sock.setsockopt(socket.SOL_SOCKET, socket.SO_REUSEADDR, \u001b[32m1\u001b[39m)\n\u001b[32m---> \u001b[39m\u001b[32m44\u001b[39m     \u001b[43msock\u001b[49m\u001b[43m.\u001b[49m\u001b[43mbind\u001b[49m\u001b[43m(\u001b[49m\u001b[43m(\u001b[49m\u001b[43mhost\u001b[49m\u001b[43m,\u001b[49m\u001b[43m \u001b[49m\u001b[43mport\u001b[49m\u001b[43m)\u001b[49m\u001b[43m)\u001b[49m\n\u001b[32m     45\u001b[39m     \u001b[38;5;28;01mreturn\u001b[39;00m \u001b[38;5;28;01mTrue\u001b[39;00m\n\u001b[32m     46\u001b[39m \u001b[38;5;28;01mexcept\u001b[39;00m \u001b[38;5;167;01mOSError\u001b[39;00m: \u001b[38;5;28;01mreturn\u001b[39;00m \u001b[38;5;28;01mFalse\u001b[39;00m\n",
      "\u001b[31mTypeError\u001b[39m: 'str' object cannot be interpreted as an integer"
     ]
    }
   ],
   "source": [
    "# Stop all servers\n",
    "server.stop()"
   ]
  },
  {
   "cell_type": "markdown",
   "id": "9b4abc6f",
   "metadata": {},
   "source": [
    "## Tips for Jupyter Development\n",
    "\n",
    "### 1. Port Management\n",
    "Each server needs a unique port. Use different ports (5001, 5002, etc.) for multiple apps.\n",
    "\n",
    "### 2. Safe Server Restart Pattern\n",
    "**Problem**: Calling `server.stop()` doesn't immediately free the port, causing \"address already in use\" errors.\n",
    "\n",
    "**Solution**: Use a helper function with proper wait:\n",
    "```python\n",
    "import time\n",
    "\n",
    "def restart_server(port=5001):\n",
    "    global server\n",
    "    try:\n",
    "        if 'server' in globals() and server is not None:\n",
    "            server.stop()\n",
    "            time.sleep(1)  # Wait for port to free\n",
    "    except: pass\n",
    "    \n",
    "    app = create_default_chat_app(responder=my_responder)\n",
    "    server = JupyUvi(app.get_app(), port=port)\n",
    "    return server\n",
    "\n",
    "# Now you can safely rerun this cell\n",
    "server = restart_server(port=5001)\n",
    "```\n",
    "\n",
    "### 3. Viewing Apps\n",
    "- Use `HTMX()` to embed the app in an iframe within the notebook\n",
    "- Or open http://localhost:PORT in your browser\n",
    "\n",
    "### 4. Debugging\n",
    "Server logs appear in the notebook output. Set `log_level=\"info\"` for more details:\n",
    "```python\n",
    "server = JupyUvi(app.get_app(), port=5001, log_level=\"info\")\n",
    "```\n",
    "\n",
    "### 5. Common Issues\n",
    "\n",
    "**\"Address already in use\" error:**\n",
    "- The port hasn't been freed yet after `stop()`\n",
    "- Solution: Add `time.sleep(1)` after `server.stop()`\n",
    "- Or use a different port temporarily\n",
    "\n",
    "**Cell blocks during execution:**\n",
    "- This happens when the server crashes but the port is still bound\n",
    "- Solution: Restart the Jupyter kernel (Kernel → Restart)\n",
    "- Or use `lsof -ti:5001 | xargs kill` in terminal to force-free the port\n",
    "\n",
    "**Changes not reflected:**\n",
    "- Make sure to stop and restart the server\n",
    "- The server loads code once at startup\n",
    "- Use the restart helper function pattern above\n",
    "\n",
    "### 6. Development Workflow\n",
    "\n",
    "**Best practice for rapid iteration:**\n",
    "```python\n",
    "# 1. Define responder in a cell\n",
    "async def my_responder(msg: str, context=None) -> str:\n",
    "    return f\"Version 2: {msg}\"\n",
    "\n",
    "# 2. Restart in same cell or next cell\n",
    "server = restart_server(port=5001)\n",
    "\n",
    "# 3. Test in browser, then modify responder and re-run\n",
    "```\n",
    "\n",
    "**Alternative: Use different ports during development:**\n",
    "```python\n",
    "# Iteration 1\n",
    "server1 = JupyUvi(app1.get_app(), port=5001)\n",
    "\n",
    "# Iteration 2 (new port, no need to stop)\n",
    "server2 = JupyUvi(app2.get_app(), port=5002)\n",
    "\n",
    "# Clean up later\n",
    "server1.stop()\n",
    "server2.stop()\n",
    "```\n",
    "\n",
    "### 7. WebSocket Support\n",
    "Pylogue's streaming works seamlessly in Jupyter notebooks!"
   ]
  },
  {
   "cell_type": "markdown",
   "id": "61424c0f",
   "metadata": {},
   "source": [
    "## Next Steps\n",
    "\n",
    "- Check `5-Examples.ipynb` for more responder patterns\n",
    "- See `scripts/examples/ai/pydantic-ai.py` for LLM integration\n",
    "- Read the documentation notebooks (0-Card through 4-ChatApp) for deep dives"
   ]
  }
 ],
 "metadata": {
  "kernelspec": {
   "display_name": "pylogue (3.13.3)",
   "language": "python",
   "name": "python3"
  },
  "language_info": {
   "codemirror_mode": {
    "name": "ipython",
    "version": 3
   },
   "file_extension": ".py",
   "mimetype": "text/x-python",
   "name": "python",
   "nbconvert_exporter": "python",
   "pygments_lexer": "ipython3",
   "version": "3.13.3"
  }
 },
 "nbformat": 4,
 "nbformat_minor": 5
}
